{
 "cells": [
  {
   "cell_type": "code",
   "execution_count": 3,
   "metadata": {},
   "outputs": [],
   "source": [
    "import re\n",
    "import pandas as pd "
   ]
  },
  {
   "cell_type": "code",
   "execution_count": 4,
   "metadata": {},
   "outputs": [],
   "source": [
    "start_of_new_ticket = re.compile(r'D   [0-9]{3,4}')\n",
    "date_re = re.compile(r'1?[0-9]/[0-9]{1,2}/[0-9]{4}')"
   ]
  },
  {
   "cell_type": "code",
   "execution_count": 5,
   "metadata": {},
   "outputs": [
    {
     "data": {
      "text/plain": [
       "47"
      ]
     },
     "execution_count": 5,
     "metadata": {},
     "output_type": "execute_result"
    }
   ],
   "source": [
    "len(\"-----------------------------------------------\")"
   ]
  },
  {
   "cell_type": "code",
   "execution_count": 28,
   "metadata": {},
   "outputs": [
    {
     "name": "stdout",
     "output_type": "stream",
     "text": [
      "['7/1/2008', '372', '2', '5359-SLBN', 'TIMBERLINE']\n",
      "['7/1/2008', '372', '2', '10002-610', 'BEACH']\n",
      "['7/1/2008', '372', '2', '10002-610', 'BEACH']\n",
      "D ----------------------------------------------- 10:12 AM\n",
      "\n",
      "['7/1/2008', '373', '2', '7317M', 'MANTRA']\n",
      "D ----------------------------------------------- 10:34 AM\n",
      "\n",
      "['7/1/2008', '374', '2', 'M-5099', 'MT']\n",
      "['7/1/2008', '374', '2', '11V-Q', 'MT']\n",
      "['7/1/2008', '374', '2', '11V-Q', 'MT']\n",
      "D ----------------------------------------------- 10:38 AM\n",
      "\n",
      "['7/1/2008', '375', '2', '8212-NAVY', 'NEWPORT']\n",
      "D ----------------------------------------------- 11:45 AM\n",
      "\n",
      "['7/1/2008', '376', '2', 'C0002', 'TODDLER']\n",
      "D ----------------------------------------------- 11:47 AM\n",
      "\n",
      "['7/1/2008', '377', '2', '10027-543', 'K']\n",
      "['7/1/2008', '377', '2', 'RF002307HPW', 'REEF']\n",
      "['7/1/2008', '377', '2', 'RF002307HPW', 'REEF']\n",
      "D ----------------------------------------------- 12:02 PM\n",
      "\n",
      "['7/1/2008', '378', '2', '10002-1', 'PRO']\n",
      "D ----------------------------------------------- 12:55 PM\n",
      "\n",
      "['7/1/2008', '379', '2', '4204000051-004', 'FLATS']\n",
      "['7/1/2008', '379', '2', '4204000043-535', 'CHULA']\n",
      "['7/1/2008', '379', '2', '4204000043-448', 'CHULA']\n",
      "['7/1/2008', '379', '2', '4204000043-448', 'CHULA']\n",
      "D ----------------------------------------------- 01:23 PM\n",
      "\n",
      "['7/1/2008', '380', '2', 'D168MWWR', 'TRIFECTA']\n",
      "D ----------------------------------------------- 01:52 PM\n",
      "\n",
      "['7/1/2008', '381', '2', '669163', 'SUPERSTAR']\n",
      "D ----------------------------------------------- 01:56 PM\n",
      "\n",
      "['7/1/2008', '382', '2', 'RF002597BBY', 'REEF']\n",
      "D ----------------------------------------------- 03:11 PM\n",
      "\n",
      "['7/1/2008', '383', '2', '919868', 'TROVAO']\n",
      "D ----------------------------------------------- 03:14 PM\n",
      "\n",
      "['7/1/2008', '384', '2', '4304000007-683', 'KIDS']\n",
      "D ----------------------------------------------- 04:16 PM\n",
      "\n",
      "['7/1/2008', '385', '2', '71812', 'HUDSON']\n",
      "D ----------------------------------------------- 05:03 PM\n",
      "\n",
      "['7/1/2008', '386', '7', 'A29115', 'CHICAGO']\n",
      "D ----------------------------------------------- 05:11 PM\n",
      "\n",
      "['7/1/2008', '387', '7', 'D463YW', 'DOWNTOWN']\n",
      "D ----------------------------------------------- 07:47 PM\n",
      "\n"
     ]
    }
   ],
   "source": [
    "hit_start = False\n",
    "new_ticket = False\n",
    "have_date = False\n",
    "\n",
    "with open(\"MAIN-RICS 2008-07-01 213313 Sales Journal.txt\") as ifile: \n",
    "    for row in ifile :\n",
    "        \n",
    "        if not have_date and date_re.search(row) :\n",
    "            the_date = date_re.search(row).group(0)\n",
    "            have_date = True\n",
    "        \n",
    "        if hit_start :\n",
    "            if start_of_new_ticket.search(row) and not new_ticket:\n",
    "                new_ticket = True\n",
    "                \n",
    "                row = row.split()\n",
    "                row = [w.strip() for w in row]\n",
    "                #print(row)\n",
    "                \n",
    "                \n",
    "                ticket_num = row[1]\n",
    "                emp_num = row[2]\n",
    "                \n",
    "            elif new_ticket :\n",
    "                # is ticket over? \n",
    "                if \"-\"*47 in row :\n",
    "                    new_ticket = False\n",
    "                    # TODO: get time\n",
    "                    \n",
    "                    print(row)\n",
    "                    \n",
    "                else :\n",
    "                    # if not over, process row\n",
    "                    \n",
    "                    row = row.split()\n",
    "                    if \"Totals\" not in row:\n",
    "                        #print(row)\n",
    "                        sku = row[2]\n",
    "                        item = row[3]\n",
    "                            \n",
    "                    \n",
    "                    output_row = [the_date,ticket_num,emp_num,sku,item]\n",
    "                    print(output_row)\n",
    "\n",
    "        \n",
    "        \n",
    "        \n",
    "        if \"-------- SKU --------\" in row :\n",
    "            hit_start = True\n",
    "            \n",
    "#        print(row)"
   ]
  },
  {
   "cell_type": "code",
   "execution_count": 29,
   "metadata": {},
   "outputs": [
    {
     "data": {
      "text/plain": [
       "'D @@BONElapsed Time : 0 seconds@@BOF\\n'"
      ]
     },
     "execution_count": 29,
     "metadata": {},
     "output_type": "execute_result"
    }
   ],
   "source": [
    "row"
   ]
  },
  {
   "cell_type": "code",
   "execution_count": null,
   "metadata": {},
   "outputs": [],
   "source": []
  }
 ],
 "metadata": {
  "kernelspec": {
   "display_name": "Python 3",
   "language": "python",
   "name": "python3"
  },
  "language_info": {
   "codemirror_mode": {
    "name": "ipython",
    "version": 3
   },
   "file_extension": ".py",
   "mimetype": "text/x-python",
   "name": "python",
   "nbconvert_exporter": "python",
   "pygments_lexer": "ipython3",
   "version": "3.7.3"
  }
 },
 "nbformat": 4,
 "nbformat_minor": 2
}
